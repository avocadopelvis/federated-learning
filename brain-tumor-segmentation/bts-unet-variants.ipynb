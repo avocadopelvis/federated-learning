{
  "metadata": {
    "kernelspec": {
      "language": "python",
      "display_name": "Python 3",
      "name": "python3"
    },
    "language_info": {
      "name": "python",
      "version": "3.7.12",
      "mimetype": "text/x-python",
      "codemirror_mode": {
        "name": "ipython",
        "version": 3
      },
      "pygments_lexer": "ipython3",
      "nbconvert_exporter": "python",
      "file_extension": ".py"
    },
    "colab": {
      "name": "bts-unet-variants.ipynb",
      "provenance": [],
      "collapsed_sections": [],
      "include_colab_link": true
    },
    "accelerator": "GPU",
    "gpuClass": "standard"
  },
  "nbformat_minor": 0,
  "nbformat": 4,
  "cells": [
    {
      "cell_type": "markdown",
      "metadata": {
        "id": "view-in-github",
        "colab_type": "text"
      },
      "source": [
        "<a href=\"https://colab.research.google.com/github/avocadopelvis/BTP/blob/main/brain-tumor-segmentation/bts-unet-variants.ipynb\" target=\"_parent\"><img src=\"https://colab.research.google.com/assets/colab-badge.svg\" alt=\"Open In Colab\"/></a>"
      ]
    },
    {
      "cell_type": "code",
      "source": [
        "# from google.colab import drive\n",
        "# drive.mount('/content/drive')"
      ],
      "metadata": {
        "id": "ZFFjF-7dWfBo"
      },
      "execution_count": 2,
      "outputs": []
    },
    {
      "cell_type": "code",
      "source": [
        "# neural imaging\n",
        "!pip install nilearn\n",
        "# nifti to gif \n",
        "!pip install git+https://github.com/miykael/gif_your_nifti \n",
        "# unet variants\n",
        "!pip install keras_unet_collection"
      ],
      "metadata": {
        "id": "Vgcju8F4JanA",
        "colab": {
          "base_uri": "https://localhost:8080/"
        },
        "outputId": "d2e2e523-55c8-4972-b8c0-3f58fb2b2205"
      },
      "execution_count": 3,
      "outputs": [
        {
          "output_type": "stream",
          "name": "stdout",
          "text": [
            "Looking in indexes: https://pypi.org/simple, https://us-python.pkg.dev/colab-wheels/public/simple/\n",
            "Collecting nilearn\n",
            "  Downloading nilearn-0.9.1-py3-none-any.whl (9.6 MB)\n",
            "\u001b[K     |████████████████████████████████| 9.6 MB 5.8 MB/s \n",
            "\u001b[?25hRequirement already satisfied: scikit-learn>=0.22 in /usr/local/lib/python3.7/dist-packages (from nilearn) (1.0.2)\n",
            "Requirement already satisfied: joblib>=0.15 in /usr/local/lib/python3.7/dist-packages (from nilearn) (1.1.0)\n",
            "Requirement already satisfied: numpy>=1.18 in /usr/local/lib/python3.7/dist-packages (from nilearn) (1.21.6)\n",
            "Requirement already satisfied: scipy>=1.5 in /usr/local/lib/python3.7/dist-packages (from nilearn) (1.7.3)\n",
            "Requirement already satisfied: pandas>=1.0 in /usr/local/lib/python3.7/dist-packages (from nilearn) (1.3.5)\n",
            "Requirement already satisfied: nibabel>=3.0.0 in /usr/local/lib/python3.7/dist-packages (from nilearn) (3.0.2)\n",
            "Requirement already satisfied: requests>=2 in /usr/local/lib/python3.7/dist-packages (from nilearn) (2.23.0)\n",
            "Requirement already satisfied: lxml in /usr/local/lib/python3.7/dist-packages (from nilearn) (4.9.1)\n",
            "Requirement already satisfied: python-dateutil>=2.7.3 in /usr/local/lib/python3.7/dist-packages (from pandas>=1.0->nilearn) (2.8.2)\n",
            "Requirement already satisfied: pytz>=2017.3 in /usr/local/lib/python3.7/dist-packages (from pandas>=1.0->nilearn) (2022.1)\n",
            "Requirement already satisfied: six>=1.5 in /usr/local/lib/python3.7/dist-packages (from python-dateutil>=2.7.3->pandas>=1.0->nilearn) (1.15.0)\n",
            "Requirement already satisfied: chardet<4,>=3.0.2 in /usr/local/lib/python3.7/dist-packages (from requests>=2->nilearn) (3.0.4)\n",
            "Requirement already satisfied: urllib3!=1.25.0,!=1.25.1,<1.26,>=1.21.1 in /usr/local/lib/python3.7/dist-packages (from requests>=2->nilearn) (1.24.3)\n",
            "Requirement already satisfied: idna<3,>=2.5 in /usr/local/lib/python3.7/dist-packages (from requests>=2->nilearn) (2.10)\n",
            "Requirement already satisfied: certifi>=2017.4.17 in /usr/local/lib/python3.7/dist-packages (from requests>=2->nilearn) (2022.6.15)\n",
            "Requirement already satisfied: threadpoolctl>=2.0.0 in /usr/local/lib/python3.7/dist-packages (from scikit-learn>=0.22->nilearn) (3.1.0)\n",
            "Installing collected packages: nilearn\n",
            "Successfully installed nilearn-0.9.1\n",
            "Looking in indexes: https://pypi.org/simple, https://us-python.pkg.dev/colab-wheels/public/simple/\n",
            "Collecting git+https://github.com/miykael/gif_your_nifti\n",
            "  Cloning https://github.com/miykael/gif_your_nifti to /tmp/pip-req-build-8pom3_up\n",
            "  Running command git clone -q https://github.com/miykael/gif_your_nifti /tmp/pip-req-build-8pom3_up\n",
            "Requirement already satisfied: numpy in /usr/local/lib/python3.7/dist-packages (from gif-your-nifti==0.2.0) (1.21.6)\n",
            "Requirement already satisfied: nibabel in /usr/local/lib/python3.7/dist-packages (from gif-your-nifti==0.2.0) (3.0.2)\n",
            "Requirement already satisfied: imageio in /usr/local/lib/python3.7/dist-packages (from gif-your-nifti==0.2.0) (2.9.0)\n",
            "Requirement already satisfied: matplotlib in /usr/local/lib/python3.7/dist-packages (from gif-your-nifti==0.2.0) (3.2.2)\n",
            "Requirement already satisfied: pillow in /usr/local/lib/python3.7/dist-packages (from imageio->gif-your-nifti==0.2.0) (7.1.2)\n",
            "Requirement already satisfied: pyparsing!=2.0.4,!=2.1.2,!=2.1.6,>=2.0.1 in /usr/local/lib/python3.7/dist-packages (from matplotlib->gif-your-nifti==0.2.0) (3.0.9)\n",
            "Requirement already satisfied: kiwisolver>=1.0.1 in /usr/local/lib/python3.7/dist-packages (from matplotlib->gif-your-nifti==0.2.0) (1.4.4)\n",
            "Requirement already satisfied: cycler>=0.10 in /usr/local/lib/python3.7/dist-packages (from matplotlib->gif-your-nifti==0.2.0) (0.11.0)\n",
            "Requirement already satisfied: python-dateutil>=2.1 in /usr/local/lib/python3.7/dist-packages (from matplotlib->gif-your-nifti==0.2.0) (2.8.2)\n",
            "Requirement already satisfied: typing-extensions in /usr/local/lib/python3.7/dist-packages (from kiwisolver>=1.0.1->matplotlib->gif-your-nifti==0.2.0) (4.1.1)\n",
            "Requirement already satisfied: six>=1.5 in /usr/local/lib/python3.7/dist-packages (from python-dateutil>=2.1->matplotlib->gif-your-nifti==0.2.0) (1.15.0)\n",
            "Building wheels for collected packages: gif-your-nifti\n",
            "  Building wheel for gif-your-nifti (setup.py) ... \u001b[?25l\u001b[?25hdone\n",
            "  Created wheel for gif-your-nifti: filename=gif_your_nifti-0.2.0-py3-none-any.whl size=6270 sha256=a07646eb51890a0320bb567517c3b3a557031b45be81e380002e0c0c00848c09\n",
            "  Stored in directory: /tmp/pip-ephem-wheel-cache-oxl3jo5o/wheels/4a/8c/d1/b228c3b67231f7459e8f70d73f4dadaf65cd90692d41f43e88\n",
            "Successfully built gif-your-nifti\n",
            "Installing collected packages: gif-your-nifti\n",
            "Successfully installed gif-your-nifti-0.2.0\n"
          ]
        }
      ]
    },
    {
      "cell_type": "markdown",
      "source": [
        "### LOAD LIBRARIES"
      ],
      "metadata": {
        "id": "zHGrnySrz5WI"
      }
    },
    {
      "cell_type": "code",
      "source": [
        "import numpy as np # linear algebra\n",
        "import pandas as pd # data processing, CSV file I/O (e.g. pd.read_csv)\n",
        "import seaborn as sns\n",
        "import matplotlib.pyplot as plt\n",
        "\n",
        "import os\n",
        "import cv2\n",
        "# glob (short for global) is used to return all file paths that match a specific pattern.\n",
        "import glob \n",
        "\n",
        "# PIL adds image processing capabilities to your Python interpreter.\n",
        "import PIL\n",
        "from PIL import Image, ImageOps\n",
        "\n",
        "# Shutil module offers high-level operation on a file like a copy, create, and remote operation on the file.\n",
        "import shutil\n",
        "\n",
        "# skimage is a collection of algorithms for image processing and computer vision.\n",
        "from skimage import data\n",
        "from skimage.util import montage\n",
        "import skimage.transform as skTrans\n",
        "from skimage.transform import rotate\n",
        "from skimage.transform import resize\n",
        "\n",
        "\n",
        "# NEURAL IMAGING\n",
        "import nilearn as nl\n",
        "import nibabel as nib # access a multitude of neuroimaging data formats\n",
        "import nilearn.plotting as nlplt\n",
        "import gif_your_nifti.core as gif2nif\n",
        "\n",
        "\n",
        "# ML Libraries\n",
        "import keras\n",
        "import keras.backend as K\n",
        "from keras.callbacks import CSVLogger\n",
        "import tensorflow as tf\n",
        "from tensorflow import keras\n",
        "from tensorflow.keras.utils import plot_model\n",
        "from sklearn.preprocessing import MinMaxScaler\n",
        "from sklearn.model_selection import train_test_split\n",
        "from sklearn.metrics import classification_report\n",
        "from tensorflow.keras.models import *\n",
        "from tensorflow.keras.layers import *\n",
        "from tensorflow.keras.optimizers import *\n",
        "from tensorflow.keras.callbacks import ModelCheckpoint, ReduceLROnPlateau, EarlyStopping, TensorBoard\n",
        "from tensorflow.keras.layers.experimental import preprocessing\n",
        "\n",
        "# make numpy printouts easier to read\n",
        "np.set_printoptions(precision = 3, suppress = True)\n",
        "\n",
        "import warnings\n",
        "warnings.filterwarnings('ignore')"
      ],
      "metadata": {
        "_uuid": "8f2839f25d086af736a60e9eeb907d3b93b6e0e5",
        "_cell_guid": "b1076dfc-b9ad-4769-8c92-a6c4dae69d19",
        "execution": {
          "iopub.status.busy": "2022-07-19T09:18:44.882717Z",
          "iopub.execute_input": "2022-07-19T09:18:44.883093Z",
          "iopub.status.idle": "2022-07-19T09:18:59.052714Z",
          "shell.execute_reply.started": "2022-07-19T09:18:44.883062Z",
          "shell.execute_reply": "2022-07-19T09:18:59.051467Z"
        },
        "trusted": true,
        "id": "svfT4Z7PJC5B"
      },
      "execution_count": 4,
      "outputs": []
    },
    {
      "cell_type": "code",
      "source": [
        "# define segmentation areas\n",
        "SEGMENT_CLASSES = {\n",
        "    0 : 'NOT TUMOR',\n",
        "    1 : 'NECROTIC/CORE', # or NON-ENHANCING TUMOR CORE\n",
        "    2 : 'EDEMA',\n",
        "    3 : 'ENHANCING' # original 4 -> converted into 3 later\n",
        "}\n",
        "\n",
        "# ????????\n",
        "# there are 155 slices per volume\n",
        "# to start at 5 and use 145 slices means we will skip the first 5 and last 5 \n",
        "VOLUME_SLICES = 100 \n",
        "VOLUME_START_AT = 22 # first slice of volume that we will include"
      ],
      "metadata": {
        "execution": {
          "iopub.status.busy": "2022-07-19T08:52:55.904797Z",
          "iopub.execute_input": "2022-07-19T08:52:55.905527Z",
          "iopub.status.idle": "2022-07-19T08:52:55.910713Z",
          "shell.execute_reply.started": "2022-07-19T08:52:55.905488Z",
          "shell.execute_reply": "2022-07-19T08:52:55.909966Z"
        },
        "trusted": true,
        "id": "z_yopejUJC5G"
      },
      "execution_count": 5,
      "outputs": []
    },
    {
      "cell_type": "code",
      "source": [
        "# dataset path\n",
        "train_data = \"/content/drive/MyDrive/BTP/BRAIN TUMOR SEGMENTATION/DATASET/BraTS 2020/BraTS2020_TrainingData/MICCAI_BraTS2020_TrainingData/\"\n",
        "valid_data = \"/content/drive/MyDrive/BTP/BRAIN TUMOR SEGMENTATION/DATASET/BraTS 2020/BraTS2020_ValidationData/MICCAI_BraTS2020_ValidationData/\""
      ],
      "metadata": {
        "execution": {
          "iopub.status.busy": "2022-07-19T08:52:55.911902Z",
          "iopub.execute_input": "2022-07-19T08:52:55.912449Z",
          "iopub.status.idle": "2022-07-19T08:52:55.935366Z",
          "shell.execute_reply.started": "2022-07-19T08:52:55.912414Z",
          "shell.execute_reply": "2022-07-19T08:52:55.934446Z"
        },
        "trusted": true,
        "id": "92T3AC1GJC5H"
      },
      "execution_count": 6,
      "outputs": []
    },
    {
      "cell_type": "markdown",
      "source": [
        "### SEGMENT OF TUMORS USING DIFFERENT EFFECTS"
      ],
      "metadata": {
        "id": "GCQj53UoJC5R"
      }
    },
    {
      "cell_type": "code",
      "source": [
        "# dice loss as defined above for 4 classes\n",
        "def dice_coef(y_true, y_pred, smooth=1.0):\n",
        "    class_num = 4\n",
        "    for i in range(class_num):\n",
        "        y_true_f = K.flatten(y_true[:,:,:,i])\n",
        "        y_pred_f = K.flatten(y_pred[:,:,:,i])\n",
        "        intersection = K.sum(y_true_f * y_pred_f)\n",
        "        loss = ((2. * intersection + smooth) / (K.sum(y_true_f) + K.sum(y_pred_f) + smooth))\n",
        "   #     K.print_tensor(loss, message='loss value for class {} : '.format(SEGMENT_CLASSES[i]))\n",
        "        if i == 0:\n",
        "            total_loss = loss\n",
        "        else:\n",
        "            total_loss = total_loss + loss\n",
        "    total_loss = total_loss / class_num\n",
        "#    K.print_tensor(total_loss, message=' total dice coef: ')\n",
        "    return total_loss\n",
        "\n",
        "\n",
        " \n",
        "# define per class evaluation of dice coef\n",
        "# inspired by https://github.com/keras-team/keras/issues/9395\n",
        "def dice_coef_necrotic(y_true, y_pred, epsilon=1e-6):\n",
        "    intersection = K.sum(K.abs(y_true[:,:,:,1] * y_pred[:,:,:,1]))\n",
        "    return (2. * intersection) / (K.sum(K.square(y_true[:,:,:,1])) + K.sum(K.square(y_pred[:,:,:,1])) + epsilon)\n",
        "\n",
        "def dice_coef_edema(y_true, y_pred, epsilon=1e-6):\n",
        "    intersection = K.sum(K.abs(y_true[:,:,:,2] * y_pred[:,:,:,2]))\n",
        "    return (2. * intersection) / (K.sum(K.square(y_true[:,:,:,2])) + K.sum(K.square(y_pred[:,:,:,2])) + epsilon)\n",
        "\n",
        "def dice_coef_enhancing(y_true, y_pred, epsilon=1e-6):\n",
        "    intersection = K.sum(K.abs(y_true[:,:,:,3] * y_pred[:,:,:,3]))\n",
        "    return (2. * intersection) / (K.sum(K.square(y_true[:,:,:,3])) + K.sum(K.square(y_pred[:,:,:,3])) + epsilon)\n",
        "\n",
        "\n",
        "\n",
        "# Computing Precision \n",
        "def precision(y_true, y_pred):\n",
        "        true_positives = K.sum(K.round(K.clip(y_true * y_pred, 0, 1)))\n",
        "        predicted_positives = K.sum(K.round(K.clip(y_pred, 0, 1)))\n",
        "        precision = true_positives / (predicted_positives + K.epsilon())\n",
        "        return precision\n",
        "\n",
        "    \n",
        "# Computing Sensitivity      \n",
        "def sensitivity(y_true, y_pred):\n",
        "    true_positives = K.sum(K.round(K.clip(y_true * y_pred, 0, 1)))\n",
        "    possible_positives = K.sum(K.round(K.clip(y_true, 0, 1)))\n",
        "    return true_positives / (possible_positives + K.epsilon())\n",
        "\n",
        "\n",
        "# Computing Specificity\n",
        "def specificity(y_true, y_pred):\n",
        "    true_negatives = K.sum(K.round(K.clip((1-y_true) * (1-y_pred), 0, 1)))\n",
        "    possible_negatives = K.sum(K.round(K.clip(1-y_true, 0, 1)))\n",
        "    return true_negatives / (possible_negatives + K.epsilon())"
      ],
      "metadata": {
        "execution": {
          "iopub.status.busy": "2022-07-19T09:10:21.855437Z",
          "iopub.execute_input": "2022-07-19T09:10:21.855860Z",
          "iopub.status.idle": "2022-07-19T09:10:21.887368Z",
          "shell.execute_reply.started": "2022-07-19T09:10:21.855824Z",
          "shell.execute_reply": "2022-07-19T09:10:21.885707Z"
        },
        "trusted": true,
        "id": "Takh48Y5JC5S"
      },
      "execution_count": 7,
      "outputs": []
    },
    {
      "cell_type": "markdown",
      "source": [
        "### LOAD DATA"
      ],
      "metadata": {
        "id": "hcqun3U6XIkd"
      }
    },
    {
      "cell_type": "code",
      "source": [
        "# list of directories\n",
        "train_val_directories = [f.path for f in os.scandir(train_data) if f.is_dir()]\n",
        "\n",
        "# remove BraTS20_Training_355 since it has ill formatted name for seg.nii file\n",
        "train_val_directories.remove(train_data + 'BraTS20_Training_355')\n",
        "\n",
        "# function to convert list of paths into IDs\n",
        "def pathListIntoIDs(dirList):\n",
        "  x = []\n",
        "  for i in range(0, len(dirList)):\n",
        "    x.append(dirList[i][dirList[i].rfind('/')+1:])\n",
        "  return x\n",
        "\n",
        "ids = pathListIntoIDs(train_val_directories)\n",
        "\n",
        "# split ids into train+test and validation\n",
        "train_test_ids, val_ids = train_test_split(ids, test_size = 0.2)\n",
        "# split train+test into train and test                                           \n",
        "train_ids, test_ids = train_test_split(train_test_ids, test_size = 0.15)"
      ],
      "metadata": {
        "id": "VhXUaEoQJC5T"
      },
      "execution_count": 15,
      "outputs": []
    },
    {
      "cell_type": "code",
      "source": [
        "# override keras sequence DataGenerator class\n",
        "class DataGenerator(keras.utils.Sequence):\n",
        "    # generates data for Keras\n",
        "    def __init__(self, list_IDs, dim=(IMG_SIZE,IMG_SIZE), batch_size = 1, n_channels = 2, shuffle=True):\n",
        "        # Initialization\n",
        "        self.dim = dim\n",
        "        self.batch_size = batch_size\n",
        "        self.list_IDs = list_IDs\n",
        "        self.n_channels = n_channels\n",
        "        self.shuffle = shuffle\n",
        "        self.on_epoch_end()\n",
        "\n",
        "    def __len__(self):\n",
        "        # denotes the number of batches per epoch\n",
        "        return int(np.floor(len(self.list_IDs) / self.batch_size))\n",
        "\n",
        "    def __getitem__(self, index):\n",
        "        # generate one batch of data\n",
        "\n",
        "        # Generate indexes of the batch\n",
        "        indexes = self.indexes[index*self.batch_size:(index+1)*self.batch_size]\n",
        "\n",
        "        # Find list of IDs\n",
        "        Batch_ids = [self.list_IDs[k] for k in indexes]\n",
        "\n",
        "        # Generate data\n",
        "        X, y = self.__data_generation(Batch_ids)\n",
        "\n",
        "        return X, y\n",
        "\n",
        "    def on_epoch_end(self):\n",
        "        # updates indexes after each epoch\n",
        "        self.indexes = np.arange(len(self.list_IDs))\n",
        "        if self.shuffle == True:\n",
        "            np.random.shuffle(self.indexes)\n",
        "\n",
        "    def __data_generation(self, Batch_ids):\n",
        "        'Generates data containing batch_size samples' # X : (n_samples, *dim, n_channels)\n",
        "        # initialization\n",
        "        X = np.zeros((self.batch_size*VOLUME_SLICES, *self.dim, self.n_channels))\n",
        "        y = np.zeros((self.batch_size*VOLUME_SLICES, 240, 240))\n",
        "        Y = np.zeros((self.batch_size*VOLUME_SLICES, *self.dim, 4))\n",
        "\n",
        "        \n",
        "        # Generate data\n",
        "        for c, i in enumerate(Batch_ids):\n",
        "            case_path = os.path.join(train_data, i)\n",
        "\n",
        "            data_path = os.path.join(case_path, f'{i}_flair.nii');\n",
        "            flair = nib.load(data_path).get_fdata()    \n",
        "\n",
        "            data_path = os.path.join(case_path, f'{i}_t1ce.nii');\n",
        "            ce = nib.load(data_path).get_fdata()\n",
        "            \n",
        "            data_path = os.path.join(case_path, f'{i}_seg.nii');\n",
        "            seg = nib.load(data_path).get_fdata()\n",
        "        \n",
        "            for j in range(VOLUME_SLICES):\n",
        "                 X[j +VOLUME_SLICES*c,:,:,0] = cv2.resize(flair[:,:,j+VOLUME_START_AT], (IMG_SIZE, IMG_SIZE));\n",
        "                 X[j +VOLUME_SLICES*c,:,:,1] = cv2.resize(ce[:,:,j+VOLUME_START_AT], (IMG_SIZE, IMG_SIZE));\n",
        "\n",
        "                 y[j +VOLUME_SLICES*c] = seg[:,:,j+VOLUME_START_AT];\n",
        "                    \n",
        "        # Generate masks\n",
        "        y[y==4] = 3;\n",
        "        mask = tf.one_hot(y, 4);\n",
        "        Y = tf.image.resize(mask, (IMG_SIZE, IMG_SIZE));\n",
        "        return X/np.max(X), Y"
      ],
      "metadata": {
        "id": "NiQl4UNav1My"
      },
      "execution_count": 16,
      "outputs": []
    },
    {
      "cell_type": "code",
      "source": [
        "training_generator = DataGenerator(train_ids)\n",
        "valid_generator = DataGenerator(val_ids)\n",
        "test_generator = DataGenerator(test_ids)"
      ],
      "metadata": {
        "id": "M89TL2lhyVHy"
      },
      "execution_count": 17,
      "outputs": []
    },
    {
      "cell_type": "code",
      "source": [
        "from keras_unet_collection import models\n",
        "\n",
        "IMG_SIZE = 128\n",
        "input_layer = Input((IMG_SIZE, IMG_SIZE, 2))\n",
        "\n",
        "# model = build_unet(input_layer, 'he_normal', 0.2)\n",
        "model = models.unet_2d((IMG_SIZE, IMG_SIZE, 2), [32, 64, 128, 256, 512], 4)\n",
        "model.compile(\n",
        "    loss = \"categorical_crossentropy\",\n",
        "    optimizer = keras.optimizers.Adam(learning_rate = 0.001),\n",
        "    metrics = ['accuracy', tf.keras.metrics.MeanIoU(num_classes = 4), dice_coef, precision, sensitivity, specificity, dice_coef_necrotic, dice_coef_edema, dice_coef_enhancing]\n",
        ")"
      ],
      "metadata": {
        "id": "PFZ3YW7e0a4a"
      },
      "execution_count": 12,
      "outputs": []
    },
    {
      "cell_type": "code",
      "source": [
        "model.summary()"
      ],
      "metadata": {
        "colab": {
          "base_uri": "https://localhost:8080/"
        },
        "id": "3cUBJ7ZwxoQy",
        "outputId": "b09146d8-d52d-46bb-eacf-5d04b7fc11a3"
      },
      "execution_count": 13,
      "outputs": [
        {
          "output_type": "stream",
          "name": "stdout",
          "text": [
            "Model: \"unet_model\"\n",
            "__________________________________________________________________________________________________\n",
            " Layer (type)                   Output Shape         Param #     Connected to                     \n",
            "==================================================================================================\n",
            " input_2 (InputLayer)           [(None, 128, 128, 2  0           []                               \n",
            "                                )]                                                                \n",
            "                                                                                                  \n",
            " unet_down0_0 (Conv2D)          (None, 128, 128, 32  608         ['input_2[0][0]']                \n",
            "                                )                                                                 \n",
            "                                                                                                  \n",
            " unet_down0_0_activation (ReLU)  (None, 128, 128, 32  0          ['unet_down0_0[0][0]']           \n",
            "                                )                                                                 \n",
            "                                                                                                  \n",
            " unet_down0_1 (Conv2D)          (None, 128, 128, 32  9248        ['unet_down0_0_activation[0][0]']\n",
            "                                )                                                                 \n",
            "                                                                                                  \n",
            " unet_down0_1_activation (ReLU)  (None, 128, 128, 32  0          ['unet_down0_1[0][0]']           \n",
            "                                )                                                                 \n",
            "                                                                                                  \n",
            " unet_down1_encode_maxpool (Max  (None, 64, 64, 32)  0           ['unet_down0_1_activation[0][0]']\n",
            " Pooling2D)                                                                                       \n",
            "                                                                                                  \n",
            " unet_down1_conv_0 (Conv2D)     (None, 64, 64, 64)   18496       ['unet_down1_encode_maxpool[0][0]\n",
            "                                                                 ']                               \n",
            "                                                                                                  \n",
            " unet_down1_conv_0_activation (  (None, 64, 64, 64)  0           ['unet_down1_conv_0[0][0]']      \n",
            " ReLU)                                                                                            \n",
            "                                                                                                  \n",
            " unet_down1_conv_1 (Conv2D)     (None, 64, 64, 64)   36928       ['unet_down1_conv_0_activation[0]\n",
            "                                                                 [0]']                            \n",
            "                                                                                                  \n",
            " unet_down1_conv_1_activation (  (None, 64, 64, 64)  0           ['unet_down1_conv_1[0][0]']      \n",
            " ReLU)                                                                                            \n",
            "                                                                                                  \n",
            " unet_down2_encode_maxpool (Max  (None, 32, 32, 64)  0           ['unet_down1_conv_1_activation[0]\n",
            " Pooling2D)                                                      [0]']                            \n",
            "                                                                                                  \n",
            " unet_down2_conv_0 (Conv2D)     (None, 32, 32, 128)  73856       ['unet_down2_encode_maxpool[0][0]\n",
            "                                                                 ']                               \n",
            "                                                                                                  \n",
            " unet_down2_conv_0_activation (  (None, 32, 32, 128)  0          ['unet_down2_conv_0[0][0]']      \n",
            " ReLU)                                                                                            \n",
            "                                                                                                  \n",
            " unet_down2_conv_1 (Conv2D)     (None, 32, 32, 128)  147584      ['unet_down2_conv_0_activation[0]\n",
            "                                                                 [0]']                            \n",
            "                                                                                                  \n",
            " unet_down2_conv_1_activation (  (None, 32, 32, 128)  0          ['unet_down2_conv_1[0][0]']      \n",
            " ReLU)                                                                                            \n",
            "                                                                                                  \n",
            " unet_down3_encode_maxpool (Max  (None, 16, 16, 128)  0          ['unet_down2_conv_1_activation[0]\n",
            " Pooling2D)                                                      [0]']                            \n",
            "                                                                                                  \n",
            " unet_down3_conv_0 (Conv2D)     (None, 16, 16, 256)  295168      ['unet_down3_encode_maxpool[0][0]\n",
            "                                                                 ']                               \n",
            "                                                                                                  \n",
            " unet_down3_conv_0_activation (  (None, 16, 16, 256)  0          ['unet_down3_conv_0[0][0]']      \n",
            " ReLU)                                                                                            \n",
            "                                                                                                  \n",
            " unet_down3_conv_1 (Conv2D)     (None, 16, 16, 256)  590080      ['unet_down3_conv_0_activation[0]\n",
            "                                                                 [0]']                            \n",
            "                                                                                                  \n",
            " unet_down3_conv_1_activation (  (None, 16, 16, 256)  0          ['unet_down3_conv_1[0][0]']      \n",
            " ReLU)                                                                                            \n",
            "                                                                                                  \n",
            " unet_down4_encode_maxpool (Max  (None, 8, 8, 256)   0           ['unet_down3_conv_1_activation[0]\n",
            " Pooling2D)                                                      [0]']                            \n",
            "                                                                                                  \n",
            " unet_down4_conv_0 (Conv2D)     (None, 8, 8, 512)    1180160     ['unet_down4_encode_maxpool[0][0]\n",
            "                                                                 ']                               \n",
            "                                                                                                  \n",
            " unet_down4_conv_0_activation (  (None, 8, 8, 512)   0           ['unet_down4_conv_0[0][0]']      \n",
            " ReLU)                                                                                            \n",
            "                                                                                                  \n",
            " unet_down4_conv_1 (Conv2D)     (None, 8, 8, 512)    2359808     ['unet_down4_conv_0_activation[0]\n",
            "                                                                 [0]']                            \n",
            "                                                                                                  \n",
            " unet_down4_conv_1_activation (  (None, 8, 8, 512)   0           ['unet_down4_conv_1[0][0]']      \n",
            " ReLU)                                                                                            \n",
            "                                                                                                  \n",
            " unet_up0_decode_unpool (UpSamp  (None, 16, 16, 512)  0          ['unet_down4_conv_1_activation[0]\n",
            " ling2D)                                                         [0]']                            \n",
            "                                                                                                  \n",
            " unet_up0_conv_before_concat_0   (None, 16, 16, 256)  1179904    ['unet_up0_decode_unpool[0][0]'] \n",
            " (Conv2D)                                                                                         \n",
            "                                                                                                  \n",
            " unet_up0_conv_before_concat_0_  (None, 16, 16, 256)  0          ['unet_up0_conv_before_concat_0[0\n",
            " activation (ReLU)                                               ][0]']                           \n",
            "                                                                                                  \n",
            " unet_up0_concat (Concatenate)  (None, 16, 16, 512)  0           ['unet_up0_conv_before_concat_0_a\n",
            "                                                                 ctivation[0][0]',                \n",
            "                                                                  'unet_down3_conv_1_activation[0]\n",
            "                                                                 [0]']                            \n",
            "                                                                                                  \n",
            " unet_up0_conv_after_concat_0 (  (None, 16, 16, 256)  1179904    ['unet_up0_concat[0][0]']        \n",
            " Conv2D)                                                                                          \n",
            "                                                                                                  \n",
            " unet_up0_conv_after_concat_0_a  (None, 16, 16, 256)  0          ['unet_up0_conv_after_concat_0[0]\n",
            " ctivation (ReLU)                                                [0]']                            \n",
            "                                                                                                  \n",
            " unet_up0_conv_after_concat_1 (  (None, 16, 16, 256)  590080     ['unet_up0_conv_after_concat_0_ac\n",
            " Conv2D)                                                         tivation[0][0]']                 \n",
            "                                                                                                  \n",
            " unet_up0_conv_after_concat_1_a  (None, 16, 16, 256)  0          ['unet_up0_conv_after_concat_1[0]\n",
            " ctivation (ReLU)                                                [0]']                            \n",
            "                                                                                                  \n",
            " unet_up1_decode_unpool (UpSamp  (None, 32, 32, 256)  0          ['unet_up0_conv_after_concat_1_ac\n",
            " ling2D)                                                         tivation[0][0]']                 \n",
            "                                                                                                  \n",
            " unet_up1_conv_before_concat_0   (None, 32, 32, 128)  295040     ['unet_up1_decode_unpool[0][0]'] \n",
            " (Conv2D)                                                                                         \n",
            "                                                                                                  \n",
            " unet_up1_conv_before_concat_0_  (None, 32, 32, 128)  0          ['unet_up1_conv_before_concat_0[0\n",
            " activation (ReLU)                                               ][0]']                           \n",
            "                                                                                                  \n",
            " unet_up1_concat (Concatenate)  (None, 32, 32, 256)  0           ['unet_up1_conv_before_concat_0_a\n",
            "                                                                 ctivation[0][0]',                \n",
            "                                                                  'unet_down2_conv_1_activation[0]\n",
            "                                                                 [0]']                            \n",
            "                                                                                                  \n",
            " unet_up1_conv_after_concat_0 (  (None, 32, 32, 128)  295040     ['unet_up1_concat[0][0]']        \n",
            " Conv2D)                                                                                          \n",
            "                                                                                                  \n",
            " unet_up1_conv_after_concat_0_a  (None, 32, 32, 128)  0          ['unet_up1_conv_after_concat_0[0]\n",
            " ctivation (ReLU)                                                [0]']                            \n",
            "                                                                                                  \n",
            " unet_up1_conv_after_concat_1 (  (None, 32, 32, 128)  147584     ['unet_up1_conv_after_concat_0_ac\n",
            " Conv2D)                                                         tivation[0][0]']                 \n",
            "                                                                                                  \n",
            " unet_up1_conv_after_concat_1_a  (None, 32, 32, 128)  0          ['unet_up1_conv_after_concat_1[0]\n",
            " ctivation (ReLU)                                                [0]']                            \n",
            "                                                                                                  \n",
            " unet_up2_decode_unpool (UpSamp  (None, 64, 64, 128)  0          ['unet_up1_conv_after_concat_1_ac\n",
            " ling2D)                                                         tivation[0][0]']                 \n",
            "                                                                                                  \n",
            " unet_up2_conv_before_concat_0   (None, 64, 64, 64)  73792       ['unet_up2_decode_unpool[0][0]'] \n",
            " (Conv2D)                                                                                         \n",
            "                                                                                                  \n",
            " unet_up2_conv_before_concat_0_  (None, 64, 64, 64)  0           ['unet_up2_conv_before_concat_0[0\n",
            " activation (ReLU)                                               ][0]']                           \n",
            "                                                                                                  \n",
            " unet_up2_concat (Concatenate)  (None, 64, 64, 128)  0           ['unet_up2_conv_before_concat_0_a\n",
            "                                                                 ctivation[0][0]',                \n",
            "                                                                  'unet_down1_conv_1_activation[0]\n",
            "                                                                 [0]']                            \n",
            "                                                                                                  \n",
            " unet_up2_conv_after_concat_0 (  (None, 64, 64, 64)  73792       ['unet_up2_concat[0][0]']        \n",
            " Conv2D)                                                                                          \n",
            "                                                                                                  \n",
            " unet_up2_conv_after_concat_0_a  (None, 64, 64, 64)  0           ['unet_up2_conv_after_concat_0[0]\n",
            " ctivation (ReLU)                                                [0]']                            \n",
            "                                                                                                  \n",
            " unet_up2_conv_after_concat_1 (  (None, 64, 64, 64)  36928       ['unet_up2_conv_after_concat_0_ac\n",
            " Conv2D)                                                         tivation[0][0]']                 \n",
            "                                                                                                  \n",
            " unet_up2_conv_after_concat_1_a  (None, 64, 64, 64)  0           ['unet_up2_conv_after_concat_1[0]\n",
            " ctivation (ReLU)                                                [0]']                            \n",
            "                                                                                                  \n",
            " unet_up3_decode_unpool (UpSamp  (None, 128, 128, 64  0          ['unet_up2_conv_after_concat_1_ac\n",
            " ling2D)                        )                                tivation[0][0]']                 \n",
            "                                                                                                  \n",
            " unet_up3_conv_before_concat_0   (None, 128, 128, 32  18464      ['unet_up3_decode_unpool[0][0]'] \n",
            " (Conv2D)                       )                                                                 \n",
            "                                                                                                  \n",
            " unet_up3_conv_before_concat_0_  (None, 128, 128, 32  0          ['unet_up3_conv_before_concat_0[0\n",
            " activation (ReLU)              )                                ][0]']                           \n",
            "                                                                                                  \n",
            " unet_up3_concat (Concatenate)  (None, 128, 128, 64  0           ['unet_up3_conv_before_concat_0_a\n",
            "                                )                                ctivation[0][0]',                \n",
            "                                                                  'unet_down0_1_activation[0][0]']\n",
            "                                                                                                  \n",
            " unet_up3_conv_after_concat_0 (  (None, 128, 128, 32  18464      ['unet_up3_concat[0][0]']        \n",
            " Conv2D)                        )                                                                 \n",
            "                                                                                                  \n",
            " unet_up3_conv_after_concat_0_a  (None, 128, 128, 32  0          ['unet_up3_conv_after_concat_0[0]\n",
            " ctivation (ReLU)               )                                [0]']                            \n",
            "                                                                                                  \n",
            " unet_up3_conv_after_concat_1 (  (None, 128, 128, 32  9248       ['unet_up3_conv_after_concat_0_ac\n",
            " Conv2D)                        )                                tivation[0][0]']                 \n",
            "                                                                                                  \n",
            " unet_up3_conv_after_concat_1_a  (None, 128, 128, 32  0          ['unet_up3_conv_after_concat_1[0]\n",
            " ctivation (ReLU)               )                                [0]']                            \n",
            "                                                                                                  \n",
            " unet_output (Conv2D)           (None, 128, 128, 4)  132         ['unet_up3_conv_after_concat_1_ac\n",
            "                                                                 tivation[0][0]']                 \n",
            "                                                                                                  \n",
            " unet_output_activation (Softma  (None, 128, 128, 4)  0          ['unet_output[0][0]']            \n",
            " x)                                                                                               \n",
            "                                                                                                  \n",
            "==================================================================================================\n",
            "Total params: 8,630,308\n",
            "Trainable params: 8,630,308\n",
            "Non-trainable params: 0\n",
            "__________________________________________________________________________________________________\n"
          ]
        }
      ]
    },
    {
      "cell_type": "code",
      "source": [
        "# add callback for training process\n",
        "csv_logger = CSVLogger('training.log', separator=',', append=False)\n",
        "\n",
        "\n",
        "callbacks = [\n",
        "#     keras.callbacks.EarlyStopping(monitor='loss', min_delta=0,\n",
        "#                               patience=2, verbose=1, mode='auto'),\n",
        "      keras.callbacks.ReduceLROnPlateau(monitor='val_loss', factor=0.2,\n",
        "                              patience=2, min_lr=0.000001, verbose=1),\n",
        "#  keras.callbacks.ModelCheckpoint(filepath = 'model_.{epoch:02d}-{val_loss:.6f}.m5',\n",
        "#                             verbose=1, save_best_only=True, save_weights_only = True)\n",
        "        csv_logger\n",
        "    ]"
      ],
      "metadata": {
        "id": "YvkQJkrpyccn"
      },
      "execution_count": 18,
      "outputs": []
    },
    {
      "cell_type": "markdown",
      "source": [
        "### TRAIN MODEL"
      ],
      "metadata": {
        "id": "aT8Bl_ZsyuNv"
      }
    },
    {
      "cell_type": "code",
      "source": [
        "K.clear_session()\n",
        "\n",
        "history =  model.fit(training_generator,\n",
        "                    epochs=1,\n",
        "                    steps_per_epoch=len(train_ids),\n",
        "                    callbacks= callbacks,\n",
        "                    validation_data = valid_generator\n",
        "                    )  \n"
      ],
      "metadata": {
        "id": "vMHoJQaIyswo",
        "colab": {
          "base_uri": "https://localhost:8080/"
        },
        "outputId": "9628a384-6a43-4e2c-e6cb-47318b28bf53"
      },
      "execution_count": 19,
      "outputs": [
        {
          "output_type": "stream",
          "name": "stdout",
          "text": [
            "249/249 [==============================] - 647s 3s/step - loss: 0.1368 - accuracy: 0.9789 - mean_io_u: 0.4201 - dice_coef: 0.2614 - precision: 0.9645 - sensitivity: 0.9528 - specificity: 0.9945 - dice_coef_necrotic: 0.0466 - dice_coef_edema: 0.1048 - dice_coef_enhancing: 0.0405 - val_loss: 0.0709 - val_accuracy: 0.9832 - val_mean_io_u: 0.5362 - val_dice_coef: 0.2809 - val_precision: 0.9845 - val_sensitivity: 0.9792 - val_specificity: 0.9948 - val_dice_coef_necrotic: 0.0932 - val_dice_coef_edema: 0.1483 - val_dice_coef_enhancing: 0.0772 - lr: 0.0010\n"
          ]
        }
      ]
    },
    {
      "cell_type": "code",
      "source": [
        "# # save the model\n",
        "# model.save(\"unet-model.h5\")"
      ],
      "metadata": {
        "id": "huZvAGb9uv7b"
      },
      "execution_count": 20,
      "outputs": []
    }
  ]
}