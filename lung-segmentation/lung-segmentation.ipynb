{
 "cells": [
  {
   "cell_type": "code",
   "execution_count": 1,
   "id": "99c4446a",
   "metadata": {
    "_cell_guid": "b1076dfc-b9ad-4769-8c92-a6c4dae69d19",
    "_uuid": "8f2839f25d086af736a60e9eeb907d3b93b6e0e5",
    "execution": {
     "iopub.execute_input": "2022-08-21T07:37:45.946071Z",
     "iopub.status.busy": "2022-08-21T07:37:45.944820Z",
     "iopub.status.idle": "2022-08-21T07:37:52.283235Z",
     "shell.execute_reply": "2022-08-21T07:37:52.282081Z"
    },
    "papermill": {
     "duration": 6.346712,
     "end_time": "2022-08-21T07:37:52.286517",
     "exception": false,
     "start_time": "2022-08-21T07:37:45.939805",
     "status": "completed"
    },
    "tags": []
   },
   "outputs": [],
   "source": [
    "import numpy as np # linear algebra\n",
    "import pandas as pd # data processing, CSV file I/O (e.g. pd.read_csv)\n",
    "import os\n",
    "import tensorflow as tf\n",
    "import cv2\n",
    "from cv2 import imread, createCLAHE\n",
    "from tqdm import tqdm\n",
    "from glob import glob\n",
    "import matplotlib.pyplot as plt\n",
    "%matplotlib inline"
   ]
  },
  {
   "cell_type": "code",
   "execution_count": 2,
   "id": "9b996b67",
   "metadata": {
    "execution": {
     "iopub.execute_input": "2022-08-21T07:37:52.293948Z",
     "iopub.status.busy": "2022-08-21T07:37:52.293274Z",
     "iopub.status.idle": "2022-08-21T07:37:52.299572Z",
     "shell.execute_reply": "2022-08-21T07:37:52.298229Z"
    },
    "papermill": {
     "duration": 0.012557,
     "end_time": "2022-08-21T07:37:52.302068",
     "exception": false,
     "start_time": "2022-08-21T07:37:52.289511",
     "status": "completed"
    },
    "tags": []
   },
   "outputs": [],
   "source": [
    "# dataset path\n",
    "image_path = os.path.join(\"../input/chest-xray-masks-and-labels/Lung Segmentation/CXR_png\")\n",
    "mask_path = os.path.join(\"../input/chest-xray-masks-and-labels/Lung Segmentation/masks\")"
   ]
  },
  {
   "cell_type": "code",
   "execution_count": 3,
   "id": "01a83bf5",
   "metadata": {
    "execution": {
     "iopub.execute_input": "2022-08-21T07:37:52.308578Z",
     "iopub.status.busy": "2022-08-21T07:37:52.308145Z",
     "iopub.status.idle": "2022-08-21T07:37:58.681742Z",
     "shell.execute_reply": "2022-08-21T07:37:58.680595Z"
    },
    "papermill": {
     "duration": 6.380037,
     "end_time": "2022-08-21T07:37:58.684626",
     "exception": false,
     "start_time": "2022-08-21T07:37:52.304589",
     "status": "completed"
    },
    "tags": []
   },
   "outputs": [],
   "source": [
    "# since we have 800 images but only 704 masks, we will make a 1-1 correspondence from masks to images\n",
    "image = os.listdir(image_path)\n",
    "mask = os.listdir(mask_path)\n",
    "# get the file name of each mask and store in a list\n",
    "masks = [fName.split(\".png\")[0] for fName in mask]\n",
    "# get the corresponding image file name for each mask and store in a list\n",
    "images = [fName.split(\"_mask\")[0] for fName in masks]"
   ]
  },
  {
   "cell_type": "code",
   "execution_count": 4,
   "id": "0842f2da",
   "metadata": {
    "execution": {
     "iopub.execute_input": "2022-08-21T07:37:58.692521Z",
     "iopub.status.busy": "2022-08-21T07:37:58.691381Z",
     "iopub.status.idle": "2022-08-21T07:37:58.697596Z",
     "shell.execute_reply": "2022-08-21T07:37:58.696762Z"
    },
    "papermill": {
     "duration": 0.012443,
     "end_time": "2022-08-21T07:37:58.699905",
     "exception": false,
     "start_time": "2022-08-21T07:37:58.687462",
     "status": "completed"
    },
    "tags": []
   },
   "outputs": [
    {
     "name": "stdout",
     "output_type": "stream",
     "text": [
      "Total mask that has modified name: 566\n"
     ]
    }
   ],
   "source": [
    "check = [i for i in masks if \"mask\" in i]\n",
    "print(\"Total mask that has modified name:\", len(check))"
   ]
  },
  {
   "cell_type": "code",
   "execution_count": null,
   "id": "c30f7af2",
   "metadata": {
    "papermill": {
     "duration": 0.002198,
     "end_time": "2022-08-21T07:37:58.704793",
     "exception": false,
     "start_time": "2022-08-21T07:37:58.702595",
     "status": "completed"
    },
    "tags": []
   },
   "outputs": [],
   "source": []
  },
  {
   "cell_type": "code",
   "execution_count": null,
   "id": "55251b98",
   "metadata": {
    "papermill": {
     "duration": 0.002022,
     "end_time": "2022-08-21T07:37:58.709213",
     "exception": false,
     "start_time": "2022-08-21T07:37:58.707191",
     "status": "completed"
    },
    "tags": []
   },
   "outputs": [],
   "source": []
  }
 ],
 "metadata": {
  "kernelspec": {
   "display_name": "Python 3",
   "language": "python",
   "name": "python3"
  },
  "language_info": {
   "codemirror_mode": {
    "name": "ipython",
    "version": 3
   },
   "file_extension": ".py",
   "mimetype": "text/x-python",
   "name": "python",
   "nbconvert_exporter": "python",
   "pygments_lexer": "ipython3",
   "version": "3.7.12"
  },
  "papermill": {
   "default_parameters": {},
   "duration": 25.199278,
   "end_time": "2022-08-21T07:38:01.592351",
   "environment_variables": {},
   "exception": null,
   "input_path": "__notebook__.ipynb",
   "output_path": "__notebook__.ipynb",
   "parameters": {},
   "start_time": "2022-08-21T07:37:36.393073",
   "version": "2.3.4"
  }
 },
 "nbformat": 4,
 "nbformat_minor": 5
}
